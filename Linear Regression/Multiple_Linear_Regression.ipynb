{
  "nbformat": 4,
  "nbformat_minor": 0,
  "metadata": {
    "colab": {
      "name": "Multiple_Linear_Regression.ipynb",
      "provenance": [],
      "collapsed_sections": []
    },
    "kernelspec": {
      "name": "python3",
      "display_name": "Python 3"
    }
  },
  "cells": [
    {
      "cell_type": "code",
      "metadata": {
        "id": "gliRa39HfZNe",
        "colab_type": "code",
        "outputId": "23070514-d557-43d4-99eb-84b4a651352a",
        "colab": {
          "base_uri": "https://localhost:8080/",
          "height": 36
        }
      },
      "source": [
        "%tensorflow_version 2.x"
      ],
      "execution_count": 1,
      "outputs": [
        {
          "output_type": "stream",
          "text": [
            "TensorFlow 2.x selected.\n"
          ],
          "name": "stdout"
        }
      ]
    },
    {
      "cell_type": "code",
      "metadata": {
        "id": "QsT2IFCLfrHs",
        "colab_type": "code",
        "colab": {}
      },
      "source": [
        "from __future__ import print_function\n",
        "\n",
        "import math\n",
        "from matplotlib import cm\n",
        "from matplotlib import gridspec\n",
        "from matplotlib import pyplot as plt\n",
        "\n",
        "import numpy as np\n",
        "import pandas as pd\n",
        "\n",
        "\n",
        "import tensorflow as tf\n",
        "from sklearn import metrics\n",
        "from sklearn.model_selection import train_test_split"
      ],
      "execution_count": 0,
      "outputs": []
    },
    {
      "cell_type": "code",
      "metadata": {
        "id": "VYRARg9hfxqt",
        "colab_type": "code",
        "colab": {}
      },
      "source": [
        "train_data = pd.read_csv(\"https://download.mlcc.google.com/mledu-datasets/california_housing_train.csv\", sep=\",\")\n",
        "test_data  = pd.read_csv(\"https://download.mlcc.google.com/mledu-datasets/california_housing_test.csv\", sep=\",\")"
      ],
      "execution_count": 0,
      "outputs": []
    },
    {
      "cell_type": "code",
      "metadata": {
        "id": "rg3eMPU7wQdG",
        "colab_type": "code",
        "colab": {}
      },
      "source": [
        "# train_data.describe()"
      ],
      "execution_count": 0,
      "outputs": []
    },
    {
      "cell_type": "code",
      "metadata": {
        "id": "2oZvw6RBwYwt",
        "colab_type": "code",
        "colab": {}
      },
      "source": [
        "# test_data.describe()"
      ],
      "execution_count": 0,
      "outputs": []
    },
    {
      "cell_type": "code",
      "metadata": {
        "id": "kFwYMypswwc1",
        "colab_type": "code",
        "colab": {}
      },
      "source": [
        "def pre_process_train_data(dataframe):\n",
        "  features = dataframe.iloc[:,:-1]\n",
        "  processed_features = features.copy()\n",
        "  processed_features[\"rooms_per_person\"] =  processed_features[\"total_rooms\"] / processed_features[\"population\"] \n",
        "  \n",
        "  labels = pd.DataFrame()\n",
        "  labels[\"median_house_value\"] = dataframe.iloc[:,-1] / 1000.0\n",
        "  return train_test_split(processed_features, labels, test_size = 0.2,shuffle=True)\n",
        "\n",
        "def pre_process_test_data(dataframe):\n",
        "  features = dataframe.iloc[:,:-1]\n",
        "  processed_features = features.copy()\n",
        "  processed_features[\"rooms_per_person\"] =  processed_features[\"total_rooms\"] / processed_features[\"population\"] \n",
        "  \n",
        "  labels = pd.DataFrame()\n",
        "  labels[\"median_house_value\"] = dataframe.iloc[:,-1] / 1000.0\n",
        "  return processed_features, labels"
      ],
      "execution_count": 0,
      "outputs": []
    },
    {
      "cell_type": "code",
      "metadata": {
        "id": "BK-Z-AqTf0mC",
        "colab_type": "code",
        "colab": {}
      },
      "source": [
        "X_train, X_val, y_train, y_val = pre_process_train_data(train_data)\n",
        "X_test, y_test = pre_process_test_data(test_data)"
      ],
      "execution_count": 0,
      "outputs": []
    },
    {
      "cell_type": "code",
      "metadata": {
        "id": "-gG57cAm4gNs",
        "colab_type": "code",
        "outputId": "798e1819-279b-4329-b620-881e043e60bd",
        "colab": {
          "base_uri": "https://localhost:8080/",
          "height": 499
        }
      },
      "source": [
        "plt.figure(figsize=(13, 8))\n",
        "\n",
        "ax = plt.subplot(1, 2, 1)\n",
        "ax.set_title(\"Validation Data\")\n",
        "plt.scatter(X_val[\"longitude\"], X_val[\"latitude\"],\n",
        "            cmap=\"coolwarm\",\n",
        "            c=y_val[\"median_house_value\"] / y_val[\"median_house_value\"].max())\n",
        "\n",
        "ax = plt.subplot(1,2,2)\n",
        "ax.set_title(\"Training Data\")\n",
        "plt.scatter(X_train[\"longitude\"],\n",
        "            X_train[\"latitude\"],\n",
        "            cmap=\"coolwarm\",\n",
        "            c=y_train[\"median_house_value\"] / y_train[\"median_house_value\"].max())\n",
        "_ = plt.plot()"
      ],
      "execution_count": 8,
      "outputs": [
        {
          "output_type": "display_data",
          "data": {
            "image/png": "[encoded data removed]",
            "text/plain": [
              "<Figure size 936x576 with 2 Axes>"
            ]
          },
          "metadata": {
            "tags": []
          }
        }
      ]
    },
    {
      "cell_type": "code",
      "metadata": {
        "id": "jQXq7jM9Hfu8",
        "colab_type": "code",
        "colab": {
          "base_uri": "https://localhost:8080/",
          "height": 363
        },
        "outputId": "41206098-89d5-479e-ab57-790148bca7db"
      },
      "source": [
        "correlation_dataframe = X_train.copy()\n",
        "correlation_dataframe[\"target\"] = y_train[\"median_house_value\"]\n",
        "\n",
        "#correlation_dataframe.corr()"
      ],
      "execution_count": 27,
      "outputs": [
        {
          "output_type": "execute_result",
          "data": {
            "text/html": [
              "<div>\n",
              "<style scoped>\n",
              "    .dataframe tbody tr th:only-of-type {\n",
              "        vertical-align: middle;\n",
              "    }\n",
              "\n",
              "    .dataframe tbody tr th {\n",
              "        vertical-align: top;\n",
              "    }\n",
              "\n",
              "    .dataframe thead th {\n",
              "        text-align: right;\n",
              "    }\n",
              "</style>\n",
              "<table border=\"1\" class=\"dataframe\">\n",
              "  <thead>\n",
              "    <tr style=\"text-align: right;\">\n",
              "      <th></th>\n",
              "      <th>longitude</th>\n",
              "      <th>latitude</th>\n",
              "      <th>housing_median_age</th>\n",
              "      <th>total_rooms</th>\n",
              "      <th>total_bedrooms</th>\n",
              "      <th>population</th>\n",
              "      <th>households</th>\n",
              "      <th>median_income</th>\n",
              "      <th>rooms_per_person</th>\n",
              "      <th>target</th>\n",
              "    </tr>\n",
              "  </thead>\n",
              "  <tbody>\n",
              "    <tr>\n",
              "      <th>longitude</th>\n",
              "      <td>1.000000</td>\n",
              "      <td>-0.925557</td>\n",
              "      <td>-0.112107</td>\n",
              "      <td>0.044443</td>\n",
              "      <td>0.071318</td>\n",
              "      <td>0.100409</td>\n",
              "      <td>0.058369</td>\n",
              "      <td>-0.022472</td>\n",
              "      <td>-0.073913</td>\n",
              "      <td>-0.045881</td>\n",
              "    </tr>\n",
              "    <tr>\n",
              "      <th>latitude</th>\n",
              "      <td>-0.925557</td>\n",
              "      <td>1.000000</td>\n",
              "      <td>0.013519</td>\n",
              "      <td>-0.034868</td>\n",
              "      <td>-0.067803</td>\n",
              "      <td>-0.109337</td>\n",
              "      <td>-0.072537</td>\n",
              "      <td>-0.073336</td>\n",
              "      <td>0.139317</td>\n",
              "      <td>-0.142755</td>\n",
              "    </tr>\n",
              "    <tr>\n",
              "      <th>housing_median_age</th>\n",
              "      <td>-0.112107</td>\n",
              "      <td>0.013519</td>\n",
              "      <td>1.000000</td>\n",
              "      <td>-0.360539</td>\n",
              "      <td>-0.320332</td>\n",
              "      <td>-0.290849</td>\n",
              "      <td>-0.302428</td>\n",
              "      <td>-0.112530</td>\n",
              "      <td>-0.101130</td>\n",
              "      <td>0.109040</td>\n",
              "    </tr>\n",
              "    <tr>\n",
              "      <th>total_rooms</th>\n",
              "      <td>0.044443</td>\n",
              "      <td>-0.034868</td>\n",
              "      <td>-0.360539</td>\n",
              "      <td>1.000000</td>\n",
              "      <td>0.927627</td>\n",
              "      <td>0.859493</td>\n",
              "      <td>0.917508</td>\n",
              "      <td>0.189387</td>\n",
              "      <td>0.119284</td>\n",
              "      <td>0.124658</td>\n",
              "    </tr>\n",
              "    <tr>\n",
              "      <th>total_bedrooms</th>\n",
              "      <td>0.071318</td>\n",
              "      <td>-0.067803</td>\n",
              "      <td>-0.320332</td>\n",
              "      <td>0.927627</td>\n",
              "      <td>1.000000</td>\n",
              "      <td>0.881352</td>\n",
              "      <td>0.980452</td>\n",
              "      <td>-0.019760</td>\n",
              "      <td>0.046139</td>\n",
              "      <td>0.037979</td>\n",
              "    </tr>\n",
              "    <tr>\n",
              "      <th>population</th>\n",
              "      <td>0.100409</td>\n",
              "      <td>-0.109337</td>\n",
              "      <td>-0.290849</td>\n",
              "      <td>0.859493</td>\n",
              "      <td>0.881352</td>\n",
              "      <td>1.000000</td>\n",
              "      <td>0.910271</td>\n",
              "      <td>-0.005909</td>\n",
              "      <td>-0.135614</td>\n",
              "      <td>-0.031826</td>\n",
              "    </tr>\n",
              "    <tr>\n",
              "      <th>households</th>\n",
              "      <td>0.058369</td>\n",
              "      <td>-0.072537</td>\n",
              "      <td>-0.302428</td>\n",
              "      <td>0.917508</td>\n",
              "      <td>0.980452</td>\n",
              "      <td>0.910271</td>\n",
              "      <td>1.000000</td>\n",
              "      <td>0.000789</td>\n",
              "      <td>-0.034903</td>\n",
              "      <td>0.053171</td>\n",
              "    </tr>\n",
              "    <tr>\n",
              "      <th>median_income</th>\n",
              "      <td>-0.022472</td>\n",
              "      <td>-0.073336</td>\n",
              "      <td>-0.112530</td>\n",
              "      <td>0.189387</td>\n",
              "      <td>-0.019760</td>\n",
              "      <td>-0.005909</td>\n",
              "      <td>0.000789</td>\n",
              "      <td>1.000000</td>\n",
              "      <td>0.229228</td>\n",
              "      <td>0.694117</td>\n",
              "    </tr>\n",
              "    <tr>\n",
              "      <th>rooms_per_person</th>\n",
              "      <td>-0.073913</td>\n",
              "      <td>0.139317</td>\n",
              "      <td>-0.101130</td>\n",
              "      <td>0.119284</td>\n",
              "      <td>0.046139</td>\n",
              "      <td>-0.135614</td>\n",
              "      <td>-0.034903</td>\n",
              "      <td>0.229228</td>\n",
              "      <td>1.000000</td>\n",
              "      <td>0.205364</td>\n",
              "    </tr>\n",
              "    <tr>\n",
              "      <th>target</th>\n",
              "      <td>-0.045881</td>\n",
              "      <td>-0.142755</td>\n",
              "      <td>0.109040</td>\n",
              "      <td>0.124658</td>\n",
              "      <td>0.037979</td>\n",
              "      <td>-0.031826</td>\n",
              "      <td>0.053171</td>\n",
              "      <td>0.694117</td>\n",
              "      <td>0.205364</td>\n",
              "      <td>1.000000</td>\n",
              "    </tr>\n",
              "  </tbody>\n",
              "</table>\n",
              "</div>"
            ],
            "text/plain": [
              "                    longitude  latitude  ...  rooms_per_person    target\n",
              "longitude            1.000000 -0.925557  ...         -0.073913 -0.045881\n",
              "latitude            -0.925557  1.000000  ...          0.139317 -0.142755\n",
              "housing_median_age  -0.112107  0.013519  ...         -0.101130  0.109040\n",
              "total_rooms          0.044443 -0.034868  ...          0.119284  0.124658\n",
              "total_bedrooms       0.071318 -0.067803  ...          0.046139  0.037979\n",
              "population           0.100409 -0.109337  ...         -0.135614 -0.031826\n",
              "households           0.058369 -0.072537  ...         -0.034903  0.053171\n",
              "median_income       -0.022472 -0.073336  ...          0.229228  0.694117\n",
              "rooms_per_person    -0.073913  0.139317  ...          1.000000  0.205364\n",
              "target              -0.045881 -0.142755  ...          0.205364  1.000000\n",
              "\n",
              "[10 rows x 10 columns]"
            ]
          },
          "metadata": {
            "tags": []
          },
          "execution_count": 27
        }
      ]
    },
    {
      "cell_type": "code",
      "metadata": {
        "id": "fvFxyb0uA92r",
        "colab_type": "code",
        "colab": {}
      },
      "source": [
        "def my_input_fn(features, targets, batch_size=1, shuffle=True,count=None):\n",
        "  ds = tf.data.Dataset.from_tensor_slices((dict(features),targets))\n",
        "  if shuffle:\n",
        "    ds = ds.shuffle(buffer_size=10000)\n",
        "  ds = ds.batch(batch_size).repeat(count)\n",
        "  return ds"
      ],
      "execution_count": 0,
      "outputs": []
    },
    {
      "cell_type": "code",
      "metadata": {
        "id": "Mrw4GTjlBP_C",
        "colab_type": "code",
        "colab": {}
      },
      "source": [
        "def construct_feature_columns(input_features):\n",
        "  return set([tf.feature_column.numeric_column(my_feature)\n",
        "              for my_feature in input_features])"
      ],
      "execution_count": 0,
      "outputs": []
    },
    {
      "cell_type": "code",
      "metadata": {
        "id": "XBTvkSI5BTUY",
        "colab_type": "code",
        "colab": {}
      },
      "source": [
        "def train_model(learning_rate, optimizer, steps, batch_size, feature_columns, training_examples, training_targets, validation_examples, validation_targets):\n",
        " \n",
        "  # optimizer can be SGD,Ftrl,etc.\n",
        "  my_optimizer = getattr(tf.keras.optimizers,optimizer)(learning_rate=learning_rate, clipnorm =5.0)\n",
        "  linear_regressor = tf.estimator.LinearRegressor(feature_columns = feature_columns,optimizer = my_optimizer) \n",
        "  \n",
        "  training_input_fn = lambda: my_input_fn(training_examples, training_targets[\"median_house_value\"], batch_size=batch_size)\n",
        "  predict_training_input_fn = lambda: my_input_fn( training_examples, training_targets[\"median_house_value\"], count=1, shuffle=False)\n",
        "  predict_validation_input_fn = lambda: my_input_fn(validation_examples, validation_targets[\"median_house_value\"], count=1, shuffle=False)\n",
        "\n",
        "  print(\"Training model...\")\n",
        "  print(\"RMSE (on training data):\")\n",
        "  \n",
        "  history = linear_regressor.train(input_fn=training_input_fn, steps=steps)\n",
        "  \n",
        "  training_predictions = linear_regressor.predict(input_fn=predict_training_input_fn)\n",
        "  training_predictions = np.array([item['predictions'][0] for item in training_predictions])\n",
        "  \n",
        "  validation_predictions = linear_regressor.predict(input_fn=predict_validation_input_fn)\n",
        "  validation_predictions = np.array([item['predictions'][0] for item in validation_predictions])\n",
        "  \n",
        "  # Compute training and validation loss.\n",
        "  training_root_mean_squared_error = math.sqrt(metrics.mean_squared_error(training_predictions, training_targets))\n",
        "  validation_root_mean_squared_error = math.sqrt(metrics.mean_squared_error(validation_predictions, validation_targets))\n",
        "  \n",
        "  print(\"Model training finished.\")\n",
        "  print(\"Final RMSE (on training data): %0.3f\" % training_root_mean_squared_error)\n",
        "  print(\"Final RMSE (on validation data): %0.3f\" % validation_root_mean_squared_error)\n",
        "  # Output a graph of loss metrics over periods.\n",
        "  # plt.ylabel(\"RMSE\")\n",
        "  # plt.xlabel(\"Periods\")\n",
        "  # plt.title(\"Root Mean Squared Error vs. Periods\")\n",
        "  # plt.tight_layout()\n",
        "  # plt.plot(training_rmse, label=\"training\")\n",
        "  # plt.plot(validation_rmse, label=\"validation\")\n",
        "  # plt.legend()\n",
        "\n",
        "  return linear_regressor"
      ],
      "execution_count": 0,
      "outputs": []
    },
    {
      "cell_type": "code",
      "metadata": {
        "id": "5fLor2j1LEEX",
        "colab_type": "code",
        "outputId": "788eb941-5e8c-43e0-e779-f8a761304c3f",
        "colab": {
          "base_uri": "https://localhost:8080/",
          "height": 1000
        }
      },
      "source": [
        "linear_regressor = train_model( learning_rate=0.00003,\n",
        "                                optimizer = 'SGD',\n",
        "                                steps=500,\n",
        "                                batch_size=5,\n",
        "                                feature_columns = construct_feature_columns(X_train),\n",
        "                                training_examples=X_train,\n",
        "                                training_targets=y_train,\n",
        "                                validation_examples=X_val,\n",
        "                                validation_targets=y_val )"
      ],
      "execution_count": 12,
      "outputs": [
        {
          "output_type": "stream",
          "text": [
            "INFO:tensorflow:Using default config.\n",
            "WARNING:tensorflow:Using temporary folder as model directory: /tmp/tmppy5_c024\n",
            "INFO:tensorflow:Using config: {'_model_dir': '/tmp/tmppy5_c024', '_tf_random_seed': None, '_save_summary_steps': 100, '_save_checkpoints_steps': None, '_save_checkpoints_secs': 600, '_session_config': allow_soft_placement: true\n",
            "graph_options {\n",
            "  rewrite_options {\n",
            "    meta_optimizer_iterations: ONE\n",
            "  }\n",
            "}\n",
            ", '_keep_checkpoint_max': 5, '_keep_checkpoint_every_n_hours': 10000, '_log_step_count_steps': 100, '_train_distribute': None, '_device_fn': None, '_protocol': None, '_eval_distribute': None, '_experimental_distribute': None, '_experimental_max_worker_delay_secs': None, '_session_creation_timeout_secs': 7200, '_service': None, '_cluster_spec': <tensorflow.python.training.server_lib.ClusterSpec object at 0x7fc67540d7f0>, '_task_type': 'worker', '_task_id': 0, '_global_id_in_cluster': 0, '_master': '', '_evaluation_master': '', '_is_chief': True, '_num_ps_replicas': 0, '_num_worker_replicas': 1}\n",
            "Training model...\n",
            "RMSE (on training data):\n",
            "WARNING:tensorflow:From /tensorflow-2.0.0/python3.6/tensorflow_core/python/ops/resource_variable_ops.py:1630: calling BaseResourceVariable.__init__ (from tensorflow.python.ops.resource_variable_ops) with constraint is deprecated and will be removed in a future version.\n",
            "Instructions for updating:\n",
            "If using Keras pass *_constraint arguments to layers.\n",
            "WARNING:tensorflow:From /tensorflow-2.0.0/python3.6/tensorflow_core/python/training/training_util.py:236: Variable.initialized_value (from tensorflow.python.ops.variables) is deprecated and will be removed in a future version.\n",
            "Instructions for updating:\n",
            "Use Variable.read_value. Variables in 2.X are initialized automatically both in eager and graph (inside tf.defun) contexts.\n",
            "INFO:tensorflow:Calling model_fn.\n",
            "WARNING:tensorflow:Layer linear/linear_model is casting an input tensor from dtype float64 to the layer's dtype of float32, which is new behavior in TensorFlow 2.  The layer has dtype float32 because it's dtype defaults to floatx.\n",
            "\n",
            "If you intended to run this layer in float32, you can safely ignore this warning. If in doubt, this warning is likely only an issue if you are porting a TensorFlow 1.X model to TensorFlow 2.\n",
            "\n",
            "To change all layers to have dtype float64 by default, call `tf.keras.backend.set_floatx('float64')`. To change just this layer, pass dtype='float64' to the layer constructor. If you are the author of this layer, you can disable autocasting by passing autocast=False to the base Layer constructor.\n",
            "\n",
            "WARNING:tensorflow:From /tensorflow-2.0.0/python3.6/tensorflow_core/python/feature_column/feature_column_v2.py:518: Layer.add_variable (from tensorflow.python.keras.engine.base_layer) is deprecated and will be removed in a future version.\n",
            "Instructions for updating:\n",
            "Please use `layer.add_weight` method instead.\n",
            "WARNING:tensorflow:From /tensorflow-2.0.0/python3.6/tensorflow_estimator/python/estimator/canned/linear.py:308: to_float (from tensorflow.python.ops.math_ops) is deprecated and will be removed in a future version.\n",
            "Instructions for updating:\n",
            "Use `tf.cast` instead.\n",
            "INFO:tensorflow:Done calling model_fn.\n",
            "INFO:tensorflow:Create CheckpointSaverHook.\n",
            "INFO:tensorflow:Graph was finalized.\n",
            "INFO:tensorflow:Running local_init_op.\n",
            "INFO:tensorflow:Done running local_init_op.\n",
            "INFO:tensorflow:Saving checkpoints for 0 into /tmp/tmppy5_c024/model.ckpt.\n",
            "INFO:tensorflow:loss = 50030.0, step = 0\n",
            "INFO:tensorflow:global_step/sec: 543.38\n",
            "INFO:tensorflow:loss = 63630.02, step = 100 (0.189 sec)\n",
            "INFO:tensorflow:global_step/sec: 992.467\n",
            "INFO:tensorflow:loss = 11238.243, step = 200 (0.101 sec)\n",
            "INFO:tensorflow:global_step/sec: 988.283\n",
            "INFO:tensorflow:loss = 19470.61, step = 300 (0.101 sec)\n",
            "INFO:tensorflow:global_step/sec: 999.91\n",
            "INFO:tensorflow:loss = 24282.871, step = 400 (0.099 sec)\n",
            "INFO:tensorflow:Saving checkpoints for 500 into /tmp/tmppy5_c024/model.ckpt.\n",
            "INFO:tensorflow:Loss for final step: 140381.78.\n",
            "INFO:tensorflow:Calling model_fn.\n",
            "WARNING:tensorflow:Layer linear/linear_model is casting an input tensor from dtype float64 to the layer's dtype of float32, which is new behavior in TensorFlow 2.  The layer has dtype float32 because it's dtype defaults to floatx.\n",
            "\n",
            "If you intended to run this layer in float32, you can safely ignore this warning. If in doubt, this warning is likely only an issue if you are porting a TensorFlow 1.X model to TensorFlow 2.\n",
            "\n",
            "To change all layers to have dtype float64 by default, call `tf.keras.backend.set_floatx('float64')`. To change just this layer, pass dtype='float64' to the layer constructor. If you are the author of this layer, you can disable autocasting by passing autocast=False to the base Layer constructor.\n",
            "\n",
            "INFO:tensorflow:Done calling model_fn.\n",
            "INFO:tensorflow:Graph was finalized.\n",
            "INFO:tensorflow:Restoring parameters from /tmp/tmppy5_c024/model.ckpt-500\n",
            "INFO:tensorflow:Running local_init_op.\n",
            "INFO:tensorflow:Done running local_init_op.\n",
            "INFO:tensorflow:Calling model_fn.\n",
            "WARNING:tensorflow:Layer linear/linear_model is casting an input tensor from dtype float64 to the layer's dtype of float32, which is new behavior in TensorFlow 2.  The layer has dtype float32 because it's dtype defaults to floatx.\n",
            "\n",
            "If you intended to run this layer in float32, you can safely ignore this warning. If in doubt, this warning is likely only an issue if you are porting a TensorFlow 1.X model to TensorFlow 2.\n",
            "\n",
            "To change all layers to have dtype float64 by default, call `tf.keras.backend.set_floatx('float64')`. To change just this layer, pass dtype='float64' to the layer constructor. If you are the author of this layer, you can disable autocasting by passing autocast=False to the base Layer constructor.\n",
            "\n",
            "INFO:tensorflow:Done calling model_fn.\n",
            "INFO:tensorflow:Graph was finalized.\n",
            "INFO:tensorflow:Restoring parameters from /tmp/tmppy5_c024/model.ckpt-500\n",
            "INFO:tensorflow:Running local_init_op.\n",
            "INFO:tensorflow:Done running local_init_op.\n",
            "Model training finished.\n",
            "Final RMSE (on training data): 171.337\n",
            "Final RMSE (on validation data): 162.635\n"
          ],
          "name": "stdout"
        }
      ]
    },
    {
      "cell_type": "code",
      "metadata": {
        "id": "uivVYM37Ld8C",
        "colab_type": "code",
        "outputId": "1ad1f305-5b98-4601-e01c-46c3235e1bb2",
        "colab": {
          "base_uri": "https://localhost:8080/",
          "height": 278
        }
      },
      "source": [
        "predict_test_input_fn = lambda: my_input_fn(X_test, y_test[\"median_house_value\"], count=1, shuffle=False)\n",
        "\n",
        "y_hat_test = linear_regressor.predict(input_fn=predict_test_input_fn)\n",
        "y_hat_test = np.array([item['predictions'][0] for item in y_hat_test])\n",
        "\n",
        "root_mean_squared_error = math.sqrt( metrics.mean_squared_error(y_hat_test, y_test))\n",
        "\n",
        "print(\"Final RMSE (on test data): %0.2f\" % root_mean_squared_error)"
      ],
      "execution_count": 13,
      "outputs": [
        {
          "output_type": "stream",
          "text": [
            "INFO:tensorflow:Calling model_fn.\n",
            "WARNING:tensorflow:Layer linear/linear_model is casting an input tensor from dtype float64 to the layer's dtype of float32, which is new behavior in TensorFlow 2.  The layer has dtype float32 because it's dtype defaults to floatx.\n",
            "\n",
            "If you intended to run this layer in float32, you can safely ignore this warning. If in doubt, this warning is likely only an issue if you are porting a TensorFlow 1.X model to TensorFlow 2.\n",
            "\n",
            "To change all layers to have dtype float64 by default, call `tf.keras.backend.set_floatx('float64')`. To change just this layer, pass dtype='float64' to the layer constructor. If you are the author of this layer, you can disable autocasting by passing autocast=False to the base Layer constructor.\n",
            "\n",
            "INFO:tensorflow:Done calling model_fn.\n",
            "INFO:tensorflow:Graph was finalized.\n",
            "INFO:tensorflow:Restoring parameters from /tmp/tmppy5_c024/model.ckpt-500\n",
            "INFO:tensorflow:Running local_init_op.\n",
            "INFO:tensorflow:Done running local_init_op.\n",
            "Final RMSE (on test data): 161.33\n"
          ],
          "name": "stdout"
        }
      ]
    },
    {
      "cell_type": "markdown",
      "metadata": {
        "id": "_17JDeU10zH_",
        "colab_type": "text"
      },
      "source": [
        "### 2. Model with Minimal Features "
      ]
    },
    {
      "cell_type": "code",
      "metadata": {
        "id": "_nxC-Dd9owmF",
        "colab_type": "code",
        "colab": {
          "base_uri": "https://localhost:8080/",
          "height": 1000
        },
        "outputId": "faca8858-d6ff-4f2f-8ccd-24320932c8e1"
      },
      "source": [
        "minimal_features = [\"median_income\",\"latitude\"]\n",
        "\n",
        "minimal_training_examples = X_train[minimal_features]\n",
        "minimal_validation_examples = X_val[minimal_features]\n",
        "\n",
        "model_2 = train_model(  learning_rate=0.01,\n",
        "                        optimizer = 'SGD',\n",
        "                        steps=500,\n",
        "                        batch_size=5,\n",
        "                        feature_columns = construct_feature_columns(X_train[minimal_features]),\n",
        "                        training_examples=minimal_training_examples,\n",
        "                        training_targets=y_train,\n",
        "                        validation_examples=minimal_validation_examples,\n",
        "                        validation_targets=y_val)"
      ],
      "execution_count": 14,
      "outputs": [
        {
          "output_type": "stream",
          "text": [
            "INFO:tensorflow:Using default config.\n",
            "WARNING:tensorflow:Using temporary folder as model directory: /tmp/tmpryibigzd\n",
            "INFO:tensorflow:Using config: {'_model_dir': '/tmp/tmpryibigzd', '_tf_random_seed': None, '_save_summary_steps': 100, '_save_checkpoints_steps': None, '_save_checkpoints_secs': 600, '_session_config': allow_soft_placement: true\n",
            "graph_options {\n",
            "  rewrite_options {\n",
            "    meta_optimizer_iterations: ONE\n",
            "  }\n",
            "}\n",
            ", '_keep_checkpoint_max': 5, '_keep_checkpoint_every_n_hours': 10000, '_log_step_count_steps': 100, '_train_distribute': None, '_device_fn': None, '_protocol': None, '_eval_distribute': None, '_experimental_distribute': None, '_experimental_max_worker_delay_secs': None, '_session_creation_timeout_secs': 7200, '_service': None, '_cluster_spec': <tensorflow.python.training.server_lib.ClusterSpec object at 0x7fc66ccbb438>, '_task_type': 'worker', '_task_id': 0, '_global_id_in_cluster': 0, '_master': '', '_evaluation_master': '', '_is_chief': True, '_num_ps_replicas': 0, '_num_worker_replicas': 1}\n",
            "Training model...\n",
            "RMSE (on training data):\n",
            "INFO:tensorflow:Calling model_fn.\n",
            "WARNING:tensorflow:Layer linear/linear_model is casting an input tensor from dtype float64 to the layer's dtype of float32, which is new behavior in TensorFlow 2.  The layer has dtype float32 because it's dtype defaults to floatx.\n",
            "\n",
            "If you intended to run this layer in float32, you can safely ignore this warning. If in doubt, this warning is likely only an issue if you are porting a TensorFlow 1.X model to TensorFlow 2.\n",
            "\n",
            "To change all layers to have dtype float64 by default, call `tf.keras.backend.set_floatx('float64')`. To change just this layer, pass dtype='float64' to the layer constructor. If you are the author of this layer, you can disable autocasting by passing autocast=False to the base Layer constructor.\n",
            "\n",
            "INFO:tensorflow:Done calling model_fn.\n",
            "INFO:tensorflow:Create CheckpointSaverHook.\n",
            "INFO:tensorflow:Graph was finalized.\n",
            "INFO:tensorflow:Running local_init_op.\n",
            "INFO:tensorflow:Done running local_init_op.\n",
            "INFO:tensorflow:Saving checkpoints for 0 into /tmp/tmpryibigzd/model.ckpt.\n",
            "INFO:tensorflow:loss = 88971.055, step = 0\n",
            "WARNING:tensorflow:It seems that global step (tf.train.get_global_step) has not been increased. Current value (could be stable): 38 vs previous value: 38. You could increase the global step by passing tf.train.get_global_step() to Optimizer.apply_gradients or Optimizer.minimize.\n",
            "WARNING:tensorflow:It seems that global step (tf.train.get_global_step) has not been increased. Current value (could be stable): 40 vs previous value: 40. You could increase the global step by passing tf.train.get_global_step() to Optimizer.apply_gradients or Optimizer.minimize.\n",
            "INFO:tensorflow:global_step/sec: 634.443\n",
            "INFO:tensorflow:loss = 1931.2959, step = 100 (0.160 sec)\n",
            "INFO:tensorflow:global_step/sec: 1105.34\n",
            "INFO:tensorflow:loss = 3036.2534, step = 200 (0.093 sec)\n",
            "INFO:tensorflow:global_step/sec: 1057.12\n",
            "INFO:tensorflow:loss = 21743.484, step = 300 (0.093 sec)\n",
            "INFO:tensorflow:global_step/sec: 1083.41\n",
            "INFO:tensorflow:loss = 6721.139, step = 400 (0.093 sec)\n",
            "INFO:tensorflow:Saving checkpoints for 500 into /tmp/tmpryibigzd/model.ckpt.\n",
            "INFO:tensorflow:Loss for final step: 8826.644.\n",
            "INFO:tensorflow:Calling model_fn.\n",
            "WARNING:tensorflow:Layer linear/linear_model is casting an input tensor from dtype float64 to the layer's dtype of float32, which is new behavior in TensorFlow 2.  The layer has dtype float32 because it's dtype defaults to floatx.\n",
            "\n",
            "If you intended to run this layer in float32, you can safely ignore this warning. If in doubt, this warning is likely only an issue if you are porting a TensorFlow 1.X model to TensorFlow 2.\n",
            "\n",
            "To change all layers to have dtype float64 by default, call `tf.keras.backend.set_floatx('float64')`. To change just this layer, pass dtype='float64' to the layer constructor. If you are the author of this layer, you can disable autocasting by passing autocast=False to the base Layer constructor.\n",
            "\n",
            "INFO:tensorflow:Done calling model_fn.\n",
            "INFO:tensorflow:Graph was finalized.\n",
            "INFO:tensorflow:Restoring parameters from /tmp/tmpryibigzd/model.ckpt-500\n",
            "INFO:tensorflow:Running local_init_op.\n",
            "INFO:tensorflow:Done running local_init_op.\n",
            "INFO:tensorflow:Calling model_fn.\n",
            "WARNING:tensorflow:Layer linear/linear_model is casting an input tensor from dtype float64 to the layer's dtype of float32, which is new behavior in TensorFlow 2.  The layer has dtype float32 because it's dtype defaults to floatx.\n",
            "\n",
            "If you intended to run this layer in float32, you can safely ignore this warning. If in doubt, this warning is likely only an issue if you are porting a TensorFlow 1.X model to TensorFlow 2.\n",
            "\n",
            "To change all layers to have dtype float64 by default, call `tf.keras.backend.set_floatx('float64')`. To change just this layer, pass dtype='float64' to the layer constructor. If you are the author of this layer, you can disable autocasting by passing autocast=False to the base Layer constructor.\n",
            "\n",
            "INFO:tensorflow:Done calling model_fn.\n",
            "INFO:tensorflow:Graph was finalized.\n",
            "INFO:tensorflow:Restoring parameters from /tmp/tmpryibigzd/model.ckpt-500\n",
            "INFO:tensorflow:Running local_init_op.\n",
            "INFO:tensorflow:Done running local_init_op.\n",
            "Model training finished.\n",
            "Final RMSE (on training data): 105.304\n",
            "Final RMSE (on validation data): 105.654\n"
          ],
          "name": "stdout"
        }
      ]
    },
    {
      "cell_type": "code",
      "metadata": {
        "id": "jpBp_U4I1GiU",
        "colab_type": "code",
        "colab": {
          "base_uri": "https://localhost:8080/",
          "height": 278
        },
        "outputId": "8d9000d1-7c50-484c-fd02-deb1450353cb"
      },
      "source": [
        "y_hat_test = model_2.predict(input_fn=predict_test_input_fn)\n",
        "y_hat_test = np.array([item['predictions'][0] for item in y_hat_test])\n",
        "\n",
        "root_mean_squared_error = math.sqrt( metrics.mean_squared_error(y_hat_test, y_test))\n",
        "\n",
        "print(\"Final RMSE (on test data): %0.2f\" % root_mean_squared_error)"
      ],
      "execution_count": 15,
      "outputs": [
        {
          "output_type": "stream",
          "text": [
            "INFO:tensorflow:Calling model_fn.\n",
            "WARNING:tensorflow:Layer linear/linear_model is casting an input tensor from dtype float64 to the layer's dtype of float32, which is new behavior in TensorFlow 2.  The layer has dtype float32 because it's dtype defaults to floatx.\n",
            "\n",
            "If you intended to run this layer in float32, you can safely ignore this warning. If in doubt, this warning is likely only an issue if you are porting a TensorFlow 1.X model to TensorFlow 2.\n",
            "\n",
            "To change all layers to have dtype float64 by default, call `tf.keras.backend.set_floatx('float64')`. To change just this layer, pass dtype='float64' to the layer constructor. If you are the author of this layer, you can disable autocasting by passing autocast=False to the base Layer constructor.\n",
            "\n",
            "INFO:tensorflow:Done calling model_fn.\n",
            "INFO:tensorflow:Graph was finalized.\n",
            "INFO:tensorflow:Restoring parameters from /tmp/tmpryibigzd/model.ckpt-500\n",
            "INFO:tensorflow:Running local_init_op.\n",
            "INFO:tensorflow:Done running local_init_op.\n",
            "Final RMSE (on test data): 103.25\n"
          ],
          "name": "stdout"
        }
      ]
    },
    {
      "cell_type": "code",
      "metadata": {
        "id": "zaMj1ZWkoxhJ",
        "colab_type": "code",
        "colab": {
          "base_uri": "https://localhost:8080/",
          "height": 284
        },
        "outputId": "33e68a3f-e15f-4dfb-8865-aaa7781c601a"
      },
      "source": [
        "plt.scatter(X_train[\"latitude\"], y_train[\"median_house_value\"])"
      ],
      "execution_count": 16,
      "outputs": [
        {
          "output_type": "execute_result",
          "data": {
            "text/plain": [
              "<matplotlib.collections.PathCollection at 0x7fc66c4cd550>"
            ]
          },
          "metadata": {
            "tags": []
          },
          "execution_count": 16
        },
        {
          "output_type": "display_data",
          "data": {
            "image/png": "[encoded data removed]",
            "text/plain": [
              "<Figure size 432x288 with 1 Axes>"
            ]
          },
          "metadata": {
            "tags": []
          }
        }
      ]
    },
    {
      "cell_type": "markdown",
      "metadata": {
        "id": "Z-fEi7jU1ebp",
        "colab_type": "text"
      },
      "source": [
        "## 3. Model with Minimal Features with bucketizing 'latitute'\n"
      ]
    },
    {
      "cell_type": "code",
      "metadata": {
        "id": "xw9mpjoho9pY",
        "colab_type": "code",
        "colab": {}
      },
      "source": [
        "def select_and_transform_features(source_df):\n",
        "  LATITUDE_RANGES = zip(range(32, 44), range(33, 45))\n",
        "  # print(\"LATITUDE_RANGES:{}\".format(LATITUDE_RANGES))\n",
        "  selected_examples = pd.DataFrame()\n",
        "  selected_examples[\"median_income\"] = source_df[\"median_income\"]\n",
        "  for r in LATITUDE_RANGES:\n",
        "    selected_examples[\"latitude_%d_to_%d\" % r] = source_df[\"latitude\"].apply(lambda l: 1.0 if l >= r[0] and l < r[1] else 0.0)\n",
        "  return selected_examples\n",
        "\n",
        "selected_training_examples = select_and_transform_features(X_train)\n",
        "selected_validation_examples = select_and_transform_features(X_val)"
      ],
      "execution_count": 0,
      "outputs": []
    },
    {
      "cell_type": "code",
      "metadata": {
        "id": "nqdWd2kRqqU_",
        "colab_type": "code",
        "colab": {
          "base_uri": "https://localhost:8080/",
          "height": 1000
        },
        "cellView": "both",
        "outputId": "ad09135c-8bda-42e9-f013-3f804641927b"
      },
      "source": [
        "model_3 = train_model(learning_rate=0.01,\n",
        "                optimizer='SGD',\n",
        "                steps=500,\n",
        "                batch_size=5,\n",
        "                feature_columns = construct_feature_columns(selected_training_examples),\n",
        "                training_examples=selected_training_examples,\n",
        "                training_targets= y_train,\n",
        "                validation_examples=selected_validation_examples,\n",
        "                validation_targets=y_val)"
      ],
      "execution_count": 18,
      "outputs": [
        {
          "output_type": "stream",
          "text": [
            "INFO:tensorflow:Using default config.\n",
            "WARNING:tensorflow:Using temporary folder as model directory: /tmp/tmp511quby5\n",
            "INFO:tensorflow:Using config: {'_model_dir': '/tmp/tmp511quby5', '_tf_random_seed': None, '_save_summary_steps': 100, '_save_checkpoints_steps': None, '_save_checkpoints_secs': 600, '_session_config': allow_soft_placement: true\n",
            "graph_options {\n",
            "  rewrite_options {\n",
            "    meta_optimizer_iterations: ONE\n",
            "  }\n",
            "}\n",
            ", '_keep_checkpoint_max': 5, '_keep_checkpoint_every_n_hours': 10000, '_log_step_count_steps': 100, '_train_distribute': None, '_device_fn': None, '_protocol': None, '_eval_distribute': None, '_experimental_distribute': None, '_experimental_max_worker_delay_secs': None, '_session_creation_timeout_secs': 7200, '_service': None, '_cluster_spec': <tensorflow.python.training.server_lib.ClusterSpec object at 0x7fc66c6c0080>, '_task_type': 'worker', '_task_id': 0, '_global_id_in_cluster': 0, '_master': '', '_evaluation_master': '', '_is_chief': True, '_num_ps_replicas': 0, '_num_worker_replicas': 1}\n",
            "Training model...\n",
            "RMSE (on training data):\n",
            "INFO:tensorflow:Calling model_fn.\n",
            "WARNING:tensorflow:Layer linear/linear_model is casting an input tensor from dtype float64 to the layer's dtype of float32, which is new behavior in TensorFlow 2.  The layer has dtype float32 because it's dtype defaults to floatx.\n",
            "\n",
            "If you intended to run this layer in float32, you can safely ignore this warning. If in doubt, this warning is likely only an issue if you are porting a TensorFlow 1.X model to TensorFlow 2.\n",
            "\n",
            "To change all layers to have dtype float64 by default, call `tf.keras.backend.set_floatx('float64')`. To change just this layer, pass dtype='float64' to the layer constructor. If you are the author of this layer, you can disable autocasting by passing autocast=False to the base Layer constructor.\n",
            "\n",
            "INFO:tensorflow:Done calling model_fn.\n",
            "INFO:tensorflow:Create CheckpointSaverHook.\n",
            "INFO:tensorflow:Graph was finalized.\n",
            "INFO:tensorflow:Running local_init_op.\n",
            "INFO:tensorflow:Done running local_init_op.\n",
            "INFO:tensorflow:Saving checkpoints for 0 into /tmp/tmp511quby5/model.ckpt.\n",
            "INFO:tensorflow:loss = 51152.664, step = 0\n",
            "INFO:tensorflow:global_step/sec: 369.79\n",
            "INFO:tensorflow:loss = 31240.066, step = 100 (0.272 sec)\n",
            "INFO:tensorflow:global_step/sec: 921.894\n",
            "INFO:tensorflow:loss = 107011.35, step = 200 (0.109 sec)\n",
            "INFO:tensorflow:global_step/sec: 906.361\n",
            "INFO:tensorflow:loss = 12992.24, step = 300 (0.110 sec)\n",
            "INFO:tensorflow:global_step/sec: 901.408\n",
            "INFO:tensorflow:loss = 5694.1875, step = 400 (0.110 sec)\n",
            "INFO:tensorflow:Saving checkpoints for 500 into /tmp/tmp511quby5/model.ckpt.\n",
            "INFO:tensorflow:Loss for final step: 6844.8936.\n",
            "INFO:tensorflow:Calling model_fn.\n",
            "WARNING:tensorflow:Layer linear/linear_model is casting an input tensor from dtype float64 to the layer's dtype of float32, which is new behavior in TensorFlow 2.  The layer has dtype float32 because it's dtype defaults to floatx.\n",
            "\n",
            "If you intended to run this layer in float32, you can safely ignore this warning. If in doubt, this warning is likely only an issue if you are porting a TensorFlow 1.X model to TensorFlow 2.\n",
            "\n",
            "To change all layers to have dtype float64 by default, call `tf.keras.backend.set_floatx('float64')`. To change just this layer, pass dtype='float64' to the layer constructor. If you are the author of this layer, you can disable autocasting by passing autocast=False to the base Layer constructor.\n",
            "\n",
            "INFO:tensorflow:Done calling model_fn.\n",
            "INFO:tensorflow:Graph was finalized.\n",
            "INFO:tensorflow:Restoring parameters from /tmp/tmp511quby5/model.ckpt-500\n",
            "INFO:tensorflow:Running local_init_op.\n",
            "INFO:tensorflow:Done running local_init_op.\n",
            "INFO:tensorflow:Calling model_fn.\n",
            "WARNING:tensorflow:Layer linear/linear_model is casting an input tensor from dtype float64 to the layer's dtype of float32, which is new behavior in TensorFlow 2.  The layer has dtype float32 because it's dtype defaults to floatx.\n",
            "\n",
            "If you intended to run this layer in float32, you can safely ignore this warning. If in doubt, this warning is likely only an issue if you are porting a TensorFlow 1.X model to TensorFlow 2.\n",
            "\n",
            "To change all layers to have dtype float64 by default, call `tf.keras.backend.set_floatx('float64')`. To change just this layer, pass dtype='float64' to the layer constructor. If you are the author of this layer, you can disable autocasting by passing autocast=False to the base Layer constructor.\n",
            "\n",
            "INFO:tensorflow:Done calling model_fn.\n",
            "INFO:tensorflow:Graph was finalized.\n",
            "INFO:tensorflow:Restoring parameters from /tmp/tmp511quby5/model.ckpt-500\n",
            "INFO:tensorflow:Running local_init_op.\n",
            "INFO:tensorflow:Done running local_init_op.\n",
            "Model training finished.\n",
            "Final RMSE (on training data): 112.921\n",
            "Final RMSE (on validation data): 112.979\n"
          ],
          "name": "stdout"
        }
      ]
    },
    {
      "cell_type": "code",
      "metadata": {
        "id": "3gSWL9vF1wRj",
        "colab_type": "code",
        "colab": {
          "base_uri": "https://localhost:8080/",
          "height": 278
        },
        "outputId": "101ac3c8-952f-4218-e42b-d857cd420f9f"
      },
      "source": [
        "selected_test_examples = select_and_transform_features(X_test)\n",
        "\n",
        "predict_test_input_fn = lambda: my_input_fn(selected_test_examples, y_test[\"median_house_value\"], count=1, shuffle=False)\n",
        "\n",
        "y_hat_test = model_3.predict(input_fn=predict_test_input_fn)\n",
        "y_hat_test = np.array([item['predictions'][0] for item in y_hat_test])\n",
        "\n",
        "root_mean_squared_error = math.sqrt( metrics.mean_squared_error(y_hat_test, y_test))\n",
        "\n",
        "print(\"Final RMSE (on test data): %0.2f\" % root_mean_squared_error)"
      ],
      "execution_count": 19,
      "outputs": [
        {
          "output_type": "stream",
          "text": [
            "INFO:tensorflow:Calling model_fn.\n",
            "WARNING:tensorflow:Layer linear/linear_model is casting an input tensor from dtype float64 to the layer's dtype of float32, which is new behavior in TensorFlow 2.  The layer has dtype float32 because it's dtype defaults to floatx.\n",
            "\n",
            "If you intended to run this layer in float32, you can safely ignore this warning. If in doubt, this warning is likely only an issue if you are porting a TensorFlow 1.X model to TensorFlow 2.\n",
            "\n",
            "To change all layers to have dtype float64 by default, call `tf.keras.backend.set_floatx('float64')`. To change just this layer, pass dtype='float64' to the layer constructor. If you are the author of this layer, you can disable autocasting by passing autocast=False to the base Layer constructor.\n",
            "\n",
            "INFO:tensorflow:Done calling model_fn.\n",
            "INFO:tensorflow:Graph was finalized.\n",
            "INFO:tensorflow:Restoring parameters from /tmp/tmp511quby5/model.ckpt-500\n",
            "INFO:tensorflow:Running local_init_op.\n",
            "INFO:tensorflow:Done running local_init_op.\n",
            "Final RMSE (on test data): 112.57\n"
          ],
          "name": "stdout"
        }
      ]
    },
    {
      "cell_type": "markdown",
      "metadata": {
        "id": "ybPkI4aI4IpW",
        "colab_type": "text"
      },
      "source": [
        "## 4. Train the Model on Bucketized Feature Columns"
      ]
    },
    {
      "cell_type": "code",
      "metadata": {
        "id": "Q2meT_qixjxX",
        "colab_type": "code",
        "colab": {}
      },
      "source": [
        "def get_quantile_based_boundaries(feature_values, num_buckets):\n",
        "  # print(\"feature_values:{}, num_buckets:{}\".format(feature_values, num_buckets))\n",
        "  # print(np.arange(1.0, num_buckets))\n",
        "  boundaries = np.arange(1.0, num_buckets) / num_buckets\n",
        "  \n",
        "  #print(\"Boundaries:{}\".format(boundaries))\n",
        "  quantiles = feature_values.quantile(boundaries)\n",
        "  # print(\"quantiles:{}\".format(quantiles))\n",
        "  # print(\"quantiles.keys():{}\".format(quantiles.keys()))\n",
        "  # for q in quantiles.keys():\n",
        "  #   print(\"q:{},qunatiles[q]:{}\".format(q, quantiles[q]))\n",
        "  return [quantiles[q] for q in quantiles.keys()]\n",
        "\n",
        "# Divide households into 7 buckets.\n",
        "households = tf.feature_column.numeric_column(\"households\")\n",
        "bucketized_households = tf.feature_column.bucketized_column(households, boundaries=get_quantile_based_boundaries( X_train[\"households\"], 7))\n",
        "# print(\"households:{}\".format(households))\n",
        "# print(\"bucketized_households:{}\".format(bucketized_households))\n",
        "# Divide longitude into 10 buckets.\n",
        "longitude = tf.feature_column.numeric_column(\"longitude\")\n",
        "bucketized_longitude = tf.feature_column.bucketized_column( longitude, boundaries=get_quantile_based_boundaries( X_train[\"longitude\"], 10) )"
      ],
      "execution_count": 0,
      "outputs": []
    },
    {
      "cell_type": "code",
      "metadata": {
        "id": "NlcNfNNd4YLS",
        "colab_type": "code",
        "colab": {}
      },
      "source": [
        "def construct_feature_columns():\n",
        "  \"\"\"Construct the TensorFlow Feature Columns.\n",
        "\n",
        "  Returns:\n",
        "    A set of feature columns\n",
        "  \"\"\" \n",
        "  households = tf.feature_column.numeric_column(\"households\")\n",
        "  longitude = tf.feature_column.numeric_column(\"longitude\")\n",
        "  latitude = tf.feature_column.numeric_column(\"latitude\")\n",
        "  housing_median_age = tf.feature_column.numeric_column(\"housing_median_age\")\n",
        "  median_income = tf.feature_column.numeric_column(\"median_income\")\n",
        "  rooms_per_person = tf.feature_column.numeric_column(\"rooms_per_person\")\n",
        "  \n",
        "  # Divide households into 7 buckets.\n",
        "  bucketized_households = tf.feature_column.bucketized_column( households, boundaries=get_quantile_based_boundaries( X_train[\"households\"], 7))\n",
        "\n",
        "  # Divide longitude into 10 buckets.\n",
        "  bucketized_longitude = tf.feature_column.bucketized_column( longitude, boundaries=get_quantile_based_boundaries( X_train[\"longitude\"], 10))\n",
        "  \n",
        "  # Divide latitude into 10 buckets.\n",
        "  bucketized_latitude = tf.feature_column.bucketized_column( latitude, boundaries=get_quantile_based_boundaries( X_train[\"latitude\"], 10))\n",
        "\n",
        "  # Divide housing_median_age into 7 buckets.\n",
        "  bucketized_housing_median_age = tf.feature_column.bucketized_column( housing_median_age, boundaries=get_quantile_based_boundaries( X_train[\"housing_median_age\"], 7))\n",
        "  \n",
        "  # Divide median_income into 7 buckets.\n",
        "  bucketized_median_income = tf.feature_column.bucketized_column( median_income, boundaries=get_quantile_based_boundaries( X_train[\"median_income\"], 7))\n",
        "  \n",
        "  # Divide rooms_per_person into 7 buckets.\n",
        "  bucketized_rooms_per_person = tf.feature_column.bucketized_column( rooms_per_person, boundaries=get_quantile_based_boundaries( X_train[\"rooms_per_person\"], 7))\n",
        "  \n",
        "  feature_columns = set([ bucketized_longitude, bucketized_latitude, bucketized_housing_median_age, bucketized_households, bucketized_median_income, bucketized_rooms_per_person])\n",
        "  print(feature_columns)\n",
        "  return feature_columns"
      ],
      "execution_count": 0,
      "outputs": []
    },
    {
      "cell_type": "code",
      "metadata": {
        "id": "HQQx4MZW50Mv",
        "colab_type": "code",
        "colab": {
          "base_uri": "https://localhost:8080/",
          "height": 1000
        },
        "outputId": "66ff1d9f-aea1-4005-b3a1-3e17fe4f078a"
      },
      "source": [
        "model_4 = train_model(learning_rate=3.0,\n",
        "                      optimizer = 'Ftrl',\n",
        "                      steps=500,\n",
        "                      batch_size=100,\n",
        "                      feature_columns=construct_feature_columns(),\n",
        "                      training_examples=X_train,\n",
        "                      training_targets=y_train,\n",
        "                      validation_examples=X_val,\n",
        "                      validation_targets=y_val)"
      ],
      "execution_count": 22,
      "outputs": [
        {
          "output_type": "stream",
          "text": [
            "{BucketizedColumn(source_column=NumericColumn(key='rooms_per_person', shape=(1,), default_value=None, dtype=tf.float32, normalizer_fn=None), boundaries=(1.2513956597046345, 1.594056656645094, 1.8426744003186517, 2.038190818900005, 2.2390078868987606, 2.5173307865711694)), BucketizedColumn(source_column=NumericColumn(key='households', shape=(1,), default_value=None, dtype=tf.float32, normalizer_fn=None), boundaries=(219.0, 299.0, 371.0, 451.0, 568.0, 771.2857142857138)), BucketizedColumn(source_column=NumericColumn(key='housing_median_age', shape=(1,), default_value=None, dtype=tf.float32, normalizer_fn=None), boundaries=(15.0, 20.0, 26.0, 32.0, 36.0, 43.0)), BucketizedColumn(source_column=NumericColumn(key='latitude', shape=(1,), default_value=None, dtype=tf.float32, normalizer_fn=None), boundaries=(33.63, 33.86, 34.0, 34.09, 34.25, 36.67, 37.48, 37.81, 38.49)), BucketizedColumn(source_column=NumericColumn(key='median_income', shape=(1,), default_value=None, dtype=tf.float32, normalizer_fn=None), boundaries=(2.1199714285714286, 2.691871428571428, 3.236814285714286, 3.8271571428571423, 4.5568, 5.627242857142858)), BucketizedColumn(source_column=NumericColumn(key='longitude', shape=(1,), default_value=None, dtype=tf.float32, normalizer_fn=None), boundaries=(-122.28, -121.98, -121.38, -119.904, -118.49, -118.3, -118.12, -117.89, -117.24))}\n",
            "INFO:tensorflow:Using default config.\n",
            "WARNING:tensorflow:Using temporary folder as model directory: /tmp/tmpalgolqlt\n",
            "INFO:tensorflow:Using config: {'_model_dir': '/tmp/tmpalgolqlt', '_tf_random_seed': None, '_save_summary_steps': 100, '_save_checkpoints_steps': None, '_save_checkpoints_secs': 600, '_session_config': allow_soft_placement: true\n",
            "graph_options {\n",
            "  rewrite_options {\n",
            "    meta_optimizer_iterations: ONE\n",
            "  }\n",
            "}\n",
            ", '_keep_checkpoint_max': 5, '_keep_checkpoint_every_n_hours': 10000, '_log_step_count_steps': 100, '_train_distribute': None, '_device_fn': None, '_protocol': None, '_eval_distribute': None, '_experimental_distribute': None, '_experimental_max_worker_delay_secs': None, '_session_creation_timeout_secs': 7200, '_service': None, '_cluster_spec': <tensorflow.python.training.server_lib.ClusterSpec object at 0x7fc66b2985f8>, '_task_type': 'worker', '_task_id': 0, '_global_id_in_cluster': 0, '_master': '', '_evaluation_master': '', '_is_chief': True, '_num_ps_replicas': 0, '_num_worker_replicas': 1}\n",
            "Training model...\n",
            "RMSE (on training data):\n",
            "INFO:tensorflow:Calling model_fn.\n",
            "WARNING:tensorflow:Layer linear/linear_model is casting an input tensor from dtype float64 to the layer's dtype of float32, which is new behavior in TensorFlow 2.  The layer has dtype float32 because it's dtype defaults to floatx.\n",
            "\n",
            "If you intended to run this layer in float32, you can safely ignore this warning. If in doubt, this warning is likely only an issue if you are porting a TensorFlow 1.X model to TensorFlow 2.\n",
            "\n",
            "To change all layers to have dtype float64 by default, call `tf.keras.backend.set_floatx('float64')`. To change just this layer, pass dtype='float64' to the layer constructor. If you are the author of this layer, you can disable autocasting by passing autocast=False to the base Layer constructor.\n",
            "\n",
            "WARNING:tensorflow:From /tensorflow-2.0.0/python3.6/tensorflow_core/python/keras/optimizer_v2/ftrl.py:143: calling Constant.__init__ (from tensorflow.python.ops.init_ops) with dtype is deprecated and will be removed in a future version.\n",
            "Instructions for updating:\n",
            "Call initializer instance with the dtype argument instead of passing it to the constructor\n",
            "INFO:tensorflow:Done calling model_fn.\n",
            "INFO:tensorflow:Create CheckpointSaverHook.\n",
            "INFO:tensorflow:Graph was finalized.\n",
            "INFO:tensorflow:Running local_init_op.\n",
            "INFO:tensorflow:Done running local_init_op.\n",
            "INFO:tensorflow:Saving checkpoints for 0 into /tmp/tmpalgolqlt/model.ckpt.\n",
            "INFO:tensorflow:loss = 46819.06, step = 0\n",
            "WARNING:tensorflow:It seems that global step (tf.train.get_global_step) has not been increased. Current value (could be stable): 64 vs previous value: 64. You could increase the global step by passing tf.train.get_global_step() to Optimizer.apply_gradients or Optimizer.minimize.\n",
            "INFO:tensorflow:global_step/sec: 173.001\n",
            "INFO:tensorflow:loss = 5791.5186, step = 100 (0.582 sec)\n",
            "INFO:tensorflow:global_step/sec: 345.713\n",
            "INFO:tensorflow:loss = 5797.3594, step = 200 (0.290 sec)\n",
            "INFO:tensorflow:global_step/sec: 366.903\n",
            "INFO:tensorflow:loss = 5253.0913, step = 300 (0.269 sec)\n",
            "INFO:tensorflow:global_step/sec: 421.068\n",
            "INFO:tensorflow:loss = 4999.325, step = 400 (0.238 sec)\n",
            "INFO:tensorflow:Saving checkpoints for 500 into /tmp/tmpalgolqlt/model.ckpt.\n",
            "INFO:tensorflow:Loss for final step: 7880.92.\n",
            "INFO:tensorflow:Calling model_fn.\n",
            "WARNING:tensorflow:Layer linear/linear_model is casting an input tensor from dtype float64 to the layer's dtype of float32, which is new behavior in TensorFlow 2.  The layer has dtype float32 because it's dtype defaults to floatx.\n",
            "\n",
            "If you intended to run this layer in float32, you can safely ignore this warning. If in doubt, this warning is likely only an issue if you are porting a TensorFlow 1.X model to TensorFlow 2.\n",
            "\n",
            "To change all layers to have dtype float64 by default, call `tf.keras.backend.set_floatx('float64')`. To change just this layer, pass dtype='float64' to the layer constructor. If you are the author of this layer, you can disable autocasting by passing autocast=False to the base Layer constructor.\n",
            "\n",
            "INFO:tensorflow:Done calling model_fn.\n",
            "INFO:tensorflow:Graph was finalized.\n",
            "INFO:tensorflow:Restoring parameters from /tmp/tmpalgolqlt/model.ckpt-500\n",
            "INFO:tensorflow:Running local_init_op.\n",
            "INFO:tensorflow:Done running local_init_op.\n",
            "INFO:tensorflow:Calling model_fn.\n",
            "WARNING:tensorflow:Layer linear/linear_model is casting an input tensor from dtype float64 to the layer's dtype of float32, which is new behavior in TensorFlow 2.  The layer has dtype float32 because it's dtype defaults to floatx.\n",
            "\n",
            "If you intended to run this layer in float32, you can safely ignore this warning. If in doubt, this warning is likely only an issue if you are porting a TensorFlow 1.X model to TensorFlow 2.\n",
            "\n",
            "To change all layers to have dtype float64 by default, call `tf.keras.backend.set_floatx('float64')`. To change just this layer, pass dtype='float64' to the layer constructor. If you are the author of this layer, you can disable autocasting by passing autocast=False to the base Layer constructor.\n",
            "\n",
            "INFO:tensorflow:Done calling model_fn.\n",
            "INFO:tensorflow:Graph was finalized.\n",
            "INFO:tensorflow:Restoring parameters from /tmp/tmpalgolqlt/model.ckpt-500\n",
            "INFO:tensorflow:Running local_init_op.\n",
            "INFO:tensorflow:Done running local_init_op.\n",
            "Model training finished.\n",
            "Final RMSE (on training data): 68.176\n",
            "Final RMSE (on validation data): 68.905\n"
          ],
          "name": "stdout"
        }
      ]
    },
    {
      "cell_type": "code",
      "metadata": {
        "id": "ucFPp1nJCzZ1",
        "colab_type": "code",
        "colab": {
          "base_uri": "https://localhost:8080/",
          "height": 278
        },
        "outputId": "bb26fce4-074e-4e4e-ca68-f95cd613b829"
      },
      "source": [
        "predict_test_input_fn = lambda: my_input_fn(X_test, y_test[\"median_house_value\"], count=1, shuffle=False)\n",
        "\n",
        "y_hat_test = model_4.predict(input_fn=predict_test_input_fn)\n",
        "y_hat_test = np.array([item['predictions'][0] for item in y_hat_test])\n",
        "\n",
        "root_mean_squared_error = math.sqrt( metrics.mean_squared_error(y_hat_test, y_test))\n",
        "\n",
        "print(\"Final RMSE (on test data): %0.2f\" % root_mean_squared_error)"
      ],
      "execution_count": 23,
      "outputs": [
        {
          "output_type": "stream",
          "text": [
            "INFO:tensorflow:Calling model_fn.\n",
            "WARNING:tensorflow:Layer linear/linear_model is casting an input tensor from dtype float64 to the layer's dtype of float32, which is new behavior in TensorFlow 2.  The layer has dtype float32 because it's dtype defaults to floatx.\n",
            "\n",
            "If you intended to run this layer in float32, you can safely ignore this warning. If in doubt, this warning is likely only an issue if you are porting a TensorFlow 1.X model to TensorFlow 2.\n",
            "\n",
            "To change all layers to have dtype float64 by default, call `tf.keras.backend.set_floatx('float64')`. To change just this layer, pass dtype='float64' to the layer constructor. If you are the author of this layer, you can disable autocasting by passing autocast=False to the base Layer constructor.\n",
            "\n",
            "INFO:tensorflow:Done calling model_fn.\n",
            "INFO:tensorflow:Graph was finalized.\n",
            "INFO:tensorflow:Restoring parameters from /tmp/tmpalgolqlt/model.ckpt-500\n",
            "INFO:tensorflow:Running local_init_op.\n",
            "INFO:tensorflow:Done running local_init_op.\n",
            "Final RMSE (on test data): 67.84\n"
          ],
          "name": "stdout"
        }
      ]
    },
    {
      "cell_type": "markdown",
      "metadata": {
        "id": "vDeSEM-j6K0-",
        "colab_type": "text"
      },
      "source": [
        "## 5. Training the Model using Feature Crosses\n",
        "\n",
        "**Adding a feature cross of 'longitude' and 'latitude' to model to check improvement in results. Using a hash_bucket_size` of '1000'**\n",
        "\n",
        "Reference: to the TensorFlow API docs for [`crossed_column()`](https://www.tensorflow.org/api_docs/python/tf/feature_column/crossed_column) to build the feature column for your cross. "
      ]
    },
    {
      "cell_type": "code",
      "metadata": {
        "id": "a0eSS-5552yY",
        "colab_type": "code",
        "colab": {}
      },
      "source": [
        "def construct_feature_columns(training_examples):\n",
        "  \"\"\"Construct the TensorFlow Feature Columns.\n",
        "\n",
        "  Returns:\n",
        "    A set of feature columns\n",
        "  \"\"\" \n",
        "  households = tf.feature_column.numeric_column(\"households\")\n",
        "  longitude = tf.feature_column.numeric_column(\"longitude\")\n",
        "  latitude = tf.feature_column.numeric_column(\"latitude\")\n",
        "  housing_median_age = tf.feature_column.numeric_column(\"housing_median_age\")\n",
        "  median_income = tf.feature_column.numeric_column(\"median_income\")\n",
        "  rooms_per_person = tf.feature_column.numeric_column(\"rooms_per_person\")\n",
        "  \n",
        "  # Divide households into 7 buckets.\n",
        "  bucketized_households = tf.feature_column.bucketized_column( households, boundaries=get_quantile_based_boundaries( training_examples[\"households\"], 7))\n",
        "\n",
        "  # Divide longitude into 10 buckets.\n",
        "  bucketized_longitude = tf.feature_column.bucketized_column( longitude, boundaries=get_quantile_based_boundaries( training_examples[\"longitude\"], 10))\n",
        "  \n",
        "  # Divide latitude into 10 buckets.\n",
        "  bucketized_latitude = tf.feature_column.bucketized_column( latitude, boundaries=get_quantile_based_boundaries( training_examples[\"latitude\"], 10))\n",
        "\n",
        "  # Divide housing_median_age into 7 buckets.\n",
        "  bucketized_housing_median_age = tf.feature_column.bucketized_column( housing_median_age, boundaries=get_quantile_based_boundaries( training_examples[\"housing_median_age\"], 7))\n",
        "  \n",
        "  # Divide median_income into 7 buckets.\n",
        "  bucketized_median_income = tf.feature_column.bucketized_column( median_income, boundaries=get_quantile_based_boundaries( training_examples[\"median_income\"], 7))\n",
        "  \n",
        "  # Divide rooms_per_person into 7 buckets.\n",
        "  bucketized_rooms_per_person = tf.feature_column.bucketized_column( rooms_per_person, boundaries=get_quantile_based_boundaries( training_examples[\"rooms_per_person\"], 7))\n",
        "  \n",
        "  # Making a feature column for the long_x_lat feature cross\n",
        "  long_x_lat = tf.feature_column.crossed_column( set([bucketized_longitude, bucketized_latitude]), hash_bucket_size=1000)  \n",
        "  \n",
        "  feature_columns = set([ bucketized_longitude,\n",
        "                          bucketized_latitude,\n",
        "                          bucketized_housing_median_age,\n",
        "                          bucketized_households,\n",
        "                          bucketized_median_income,\n",
        "                          bucketized_rooms_per_person,\n",
        "                          long_x_lat])\n",
        "                        \n",
        "  return feature_columns"
      ],
      "execution_count": 0,
      "outputs": []
    },
    {
      "cell_type": "code",
      "metadata": {
        "id": "9d5r5F6D7Nim",
        "colab_type": "code",
        "colab": {
          "base_uri": "https://localhost:8080/",
          "height": 1000
        },
        "outputId": "253fadfc-f71b-41b9-b70e-8bdee539edff"
      },
      "source": [
        "model_5 = train_model(learning_rate=3.0,\n",
        "                      optimizer='Ftrl',\n",
        "                      steps=500,\n",
        "                      batch_size=100,\n",
        "                      feature_columns=construct_feature_columns(X_train),\n",
        "                      training_examples=X_train,\n",
        "                      training_targets=y_train,\n",
        "                      validation_examples=X_val,\n",
        "                      validation_targets=y_val)"
      ],
      "execution_count": 25,
      "outputs": [
        {
          "output_type": "stream",
          "text": [
            "INFO:tensorflow:Using default config.\n",
            "WARNING:tensorflow:Using temporary folder as model directory: /tmp/tmpsdbnx27v\n",
            "INFO:tensorflow:Using config: {'_model_dir': '/tmp/tmpsdbnx27v', '_tf_random_seed': None, '_save_summary_steps': 100, '_save_checkpoints_steps': None, '_save_checkpoints_secs': 600, '_session_config': allow_soft_placement: true\n",
            "graph_options {\n",
            "  rewrite_options {\n",
            "    meta_optimizer_iterations: ONE\n",
            "  }\n",
            "}\n",
            ", '_keep_checkpoint_max': 5, '_keep_checkpoint_every_n_hours': 10000, '_log_step_count_steps': 100, '_train_distribute': None, '_device_fn': None, '_protocol': None, '_eval_distribute': None, '_experimental_distribute': None, '_experimental_max_worker_delay_secs': None, '_session_creation_timeout_secs': 7200, '_service': None, '_cluster_spec': <tensorflow.python.training.server_lib.ClusterSpec object at 0x7fc6686da0f0>, '_task_type': 'worker', '_task_id': 0, '_global_id_in_cluster': 0, '_master': '', '_evaluation_master': '', '_is_chief': True, '_num_ps_replicas': 0, '_num_worker_replicas': 1}\n",
            "Training model...\n",
            "RMSE (on training data):\n",
            "INFO:tensorflow:Calling model_fn.\n",
            "WARNING:tensorflow:Layer linear/linear_model is casting an input tensor from dtype float64 to the layer's dtype of float32, which is new behavior in TensorFlow 2.  The layer has dtype float32 because it's dtype defaults to floatx.\n",
            "\n",
            "If you intended to run this layer in float32, you can safely ignore this warning. If in doubt, this warning is likely only an issue if you are porting a TensorFlow 1.X model to TensorFlow 2.\n",
            "\n",
            "To change all layers to have dtype float64 by default, call `tf.keras.backend.set_floatx('float64')`. To change just this layer, pass dtype='float64' to the layer constructor. If you are the author of this layer, you can disable autocasting by passing autocast=False to the base Layer constructor.\n",
            "\n",
            "INFO:tensorflow:Done calling model_fn.\n",
            "INFO:tensorflow:Create CheckpointSaverHook.\n",
            "INFO:tensorflow:Graph was finalized.\n",
            "INFO:tensorflow:Running local_init_op.\n",
            "INFO:tensorflow:Done running local_init_op.\n",
            "INFO:tensorflow:Saving checkpoints for 0 into /tmp/tmpsdbnx27v/model.ckpt.\n",
            "INFO:tensorflow:loss = 42450.37, step = 0\n",
            "INFO:tensorflow:global_step/sec: 142.791\n",
            "INFO:tensorflow:loss = 5840.083, step = 100 (0.703 sec)\n",
            "INFO:tensorflow:global_step/sec: 312.813\n",
            "INFO:tensorflow:loss = 3427.686, step = 200 (0.318 sec)\n",
            "INFO:tensorflow:global_step/sec: 292.305\n",
            "INFO:tensorflow:loss = 4545.301, step = 300 (0.348 sec)\n",
            "INFO:tensorflow:global_step/sec: 378.374\n",
            "INFO:tensorflow:loss = 4188.8374, step = 400 (0.259 sec)\n",
            "INFO:tensorflow:Saving checkpoints for 500 into /tmp/tmpsdbnx27v/model.ckpt.\n",
            "INFO:tensorflow:Loss for final step: 4609.9805.\n",
            "INFO:tensorflow:Calling model_fn.\n",
            "WARNING:tensorflow:Layer linear/linear_model is casting an input tensor from dtype float64 to the layer's dtype of float32, which is new behavior in TensorFlow 2.  The layer has dtype float32 because it's dtype defaults to floatx.\n",
            "\n",
            "If you intended to run this layer in float32, you can safely ignore this warning. If in doubt, this warning is likely only an issue if you are porting a TensorFlow 1.X model to TensorFlow 2.\n",
            "\n",
            "To change all layers to have dtype float64 by default, call `tf.keras.backend.set_floatx('float64')`. To change just this layer, pass dtype='float64' to the layer constructor. If you are the author of this layer, you can disable autocasting by passing autocast=False to the base Layer constructor.\n",
            "\n",
            "INFO:tensorflow:Done calling model_fn.\n",
            "INFO:tensorflow:Graph was finalized.\n",
            "INFO:tensorflow:Restoring parameters from /tmp/tmpsdbnx27v/model.ckpt-500\n",
            "INFO:tensorflow:Running local_init_op.\n",
            "INFO:tensorflow:Done running local_init_op.\n",
            "INFO:tensorflow:Calling model_fn.\n",
            "WARNING:tensorflow:Layer linear/linear_model is casting an input tensor from dtype float64 to the layer's dtype of float32, which is new behavior in TensorFlow 2.  The layer has dtype float32 because it's dtype defaults to floatx.\n",
            "\n",
            "If you intended to run this layer in float32, you can safely ignore this warning. If in doubt, this warning is likely only an issue if you are porting a TensorFlow 1.X model to TensorFlow 2.\n",
            "\n",
            "To change all layers to have dtype float64 by default, call `tf.keras.backend.set_floatx('float64')`. To change just this layer, pass dtype='float64' to the layer constructor. If you are the author of this layer, you can disable autocasting by passing autocast=False to the base Layer constructor.\n",
            "\n",
            "INFO:tensorflow:Done calling model_fn.\n",
            "INFO:tensorflow:Graph was finalized.\n",
            "INFO:tensorflow:Restoring parameters from /tmp/tmpsdbnx27v/model.ckpt-500\n",
            "INFO:tensorflow:Running local_init_op.\n",
            "INFO:tensorflow:Done running local_init_op.\n",
            "Model training finished.\n",
            "Final RMSE (on training data): 62.229\n",
            "Final RMSE (on validation data): 63.266\n"
          ],
          "name": "stdout"
        }
      ]
    },
    {
      "cell_type": "code",
      "metadata": {
        "id": "gMJD791NFJL2",
        "colab_type": "code",
        "colab": {
          "base_uri": "https://localhost:8080/",
          "height": 278
        },
        "outputId": "fa7964c5-53d2-4545-8c72-e1565a98f618"
      },
      "source": [
        "predict_test_input_fn = lambda: my_input_fn(X_test, y_test[\"median_house_value\"], count=1, shuffle=False)\n",
        "\n",
        "y_hat_test = model_5.predict(input_fn=predict_test_input_fn)\n",
        "y_hat_test = np.array([item['predictions'][0] for item in y_hat_test])\n",
        "\n",
        "root_mean_squared_error = math.sqrt( metrics.mean_squared_error(y_hat_test, y_test))\n",
        "\n",
        "print(\"Final RMSE (on test data): %0.2f\" % root_mean_squared_error)"
      ],
      "execution_count": 26,
      "outputs": [
        {
          "output_type": "stream",
          "text": [
            "INFO:tensorflow:Calling model_fn.\n",
            "WARNING:tensorflow:Layer linear/linear_model is casting an input tensor from dtype float64 to the layer's dtype of float32, which is new behavior in TensorFlow 2.  The layer has dtype float32 because it's dtype defaults to floatx.\n",
            "\n",
            "If you intended to run this layer in float32, you can safely ignore this warning. If in doubt, this warning is likely only an issue if you are porting a TensorFlow 1.X model to TensorFlow 2.\n",
            "\n",
            "To change all layers to have dtype float64 by default, call `tf.keras.backend.set_floatx('float64')`. To change just this layer, pass dtype='float64' to the layer constructor. If you are the author of this layer, you can disable autocasting by passing autocast=False to the base Layer constructor.\n",
            "\n",
            "INFO:tensorflow:Done calling model_fn.\n",
            "INFO:tensorflow:Graph was finalized.\n",
            "INFO:tensorflow:Restoring parameters from /tmp/tmpsdbnx27v/model.ckpt-500\n",
            "INFO:tensorflow:Running local_init_op.\n",
            "INFO:tensorflow:Done running local_init_op.\n",
            "Final RMSE (on test data): 62.96\n"
          ],
          "name": "stdout"
        }
      ]
    }
  ]
}